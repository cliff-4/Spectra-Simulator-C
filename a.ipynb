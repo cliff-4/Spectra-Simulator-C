{
 "cells": [
  {
   "cell_type": "code",
   "execution_count": 26,
   "id": "d8eee3a4",
   "metadata": {},
   "outputs": [
    {
     "name": "stdout",
     "output_type": "stream",
     "text": [
      "nurot_env       nurot_core      Dnu             epsilon         delta0l_percent beta_p_star     nmax_spread     DP1             alpha           q               SNR             maxGamma        numax_spread    Vl1             Vl2             Vl3             H0_spread       A_Pgran         B_Pgran         C_Pgran         A_taugran       B_taugran       C_taugran       P               N0              Hfactor         Wfactor\n",
      "[%.4f]          [%.4f]          9.              0.              0.2             0.000           5               [%.3f]          0.              0.              [%.3f]          0.05            10              0.3             0.15            0.0             10              0.01            -2.5            1.0             1.0             -1.6            1.0             1.0             [%f]            0.0             0.4\n",
      "0.4000          2.8000          19.0            1.              3.5             0.100           5               [%.3f]          1.0             0.5             160.            0.35            10              2.5             0.80            0.1             10              3.5             -1.5            1.0             3.5             -0.7            1.0             4.0             31000           1.0             1.0\n",
      "0.              0.              1.              1.              1.              1.              1.              1.              1.              1.              0.              1.              0.              1.              1.              1.              0               0.              0.              0.              0.              1               0               1               0               1               1\n",
      "Tobs            Cadence         Naverage        Nrealisation\n",
      "[%f]            1754.38         1               1\n",
      "\n"
     ]
    }
   ],
   "source": [
    "a = r\"\"\"\n",
    "nurot_env nurot_core   Dnu  epsilon    delta0l_percent  beta_p_star  nmax_spread  DP1    alpha    q      SNR    maxGamma   numax_spread    Vl1    Vl2    Vl3   H0_spread     A_Pgran   B_Pgran  C_Pgran     A_taugran   B_taugran   C_taugran   P      N0      Hfactor    Wfactor\n",
    "[%.4f]      [%.4f]  9.    0.       0.2              0.000         5           [%.3f]     0.     0.    [%.3f]     0.05        10              0.3      0.15   0.0   10               0.01     -2.5       1.0        1.0           -1.6         1.0      1.0    [%f]     0.0     0.4\n",
    "0.4000      2.8000  19.0   1.       3.5                0.100         5           [%.3f]    1.0     0.5    160.   0.35        10              2.5   0.80   0.1   10               3.5     -1.5      1.0        3.5           -0.7        1.0      4.0    31000     1.0     1.0\n",
    "0.           0.     1.     1.       1.                       1.            1.          1.     1.       1.     0.     1.         0.              1.     1.     1.    0                 0.      0.        0.        0.             1           0        1      0      1      1\n",
    "Tobs   Cadence  Naverage    Nrealisation\n",
    "[%f]     1754.38       1            1\n",
    "\"\"\"\n",
    "\n",
    "a = [x.split() for x in a.splitlines()]\n",
    "\n",
    "T = \"\"\n",
    "for x in a:\n",
    "    for y in x:\n",
    "        T += y.ljust(16)\n",
    "    T = T.strip()+\"\\n\"\n",
    "\n",
    "print(T)\n",
    "\n"
   ]
  },
  {
   "cell_type": "code",
   "execution_count": null,
   "id": "59843270",
   "metadata": {},
   "outputs": [],
   "source": [
    "\"\"\"\n",
    "\n",
    "(nurot_env, nurot_core, Dp_min, snr, N0)\n",
    "(Dp_max, tobs)\n",
    "\n",
    "\n",
    "nurot_env       nurot_core      Dnu             epsilon         delta0l_percent beta_p_star     nmax_spread     DP1             alpha           q               SNR             maxGamma        numax_spread    Vl1             Vl2             Vl3             H0_spread       A_Pgran         B_Pgran         C_Pgran         A_taugran       B_taugran       C_taugran       P               N0              Hfactor         Wfactor\n",
    "[%.4f]          [%.4f]          9.              0.              0.2             0.000           5               [%.3f]          0.              0.              [%.3f]          0.05            10              0.3             0.15            0.0             10              0.01            -2.5            1.0             1.0             -1.6            1.0             1.0             [%f]            0.0             0.4\n",
    "0.4000          2.8000          19.0            1.              3.5             0.100           5               [%.3f]          1.0             0.5             160.            0.35            10              2.5             0.80            0.1             10              3.5             -1.5            1.0             3.5             -0.7            1.0             4.0             31000           1.0             1.0\n",
    "0.              0.              1.              1.              1.              1.              1.              1.              1.              1.              0.              1.              0.              1.              1.              1.              0               0.              0.              0.              0.              1               0               1               0               1               1\n",
    "Tobs            Cadence         Naverage        Nrealisation\n",
    "[%f]            1754.38         1               1\n",
    "\n",
    "\n",
    "\"\"\""
   ]
  },
  {
   "cell_type": "code",
   "execution_count": null,
   "id": "ae2f5ed9",
   "metadata": {},
   "outputs": [],
   "source": [
    "nurot_env\n",
    "nurot_core\n",
    "DP1\n",
    "SNR\n",
    "N0\n",
    "Tobs"
   ]
  },
  {
   "cell_type": "code",
   "execution_count": null,
   "id": "147bbaf2",
   "metadata": {},
   "outputs": [],
   "source": [
    "The Fourier Transform is a mathematical tool that decomposes a function or signal into its constituent frequencies. It transforms a time-domain signal into its frequency-domain representation, making it easier to analyze and process. The continuous Fourier Transform of a function \\( f(t) \\) is given by the formula:\n",
    "\n",
    "\\[\n",
    "\n",
    "\\]\n",
    "\n",
    "Here, \\( F(\\omega) \\) represents the frequency spectrum of the signal, \\( \\omega \\) is the angular frequency, and \\( e^{-i \\omega t} \\) are the complex exponentials used as basis functions."
   ]
  }
 ],
 "metadata": {
  "kernelspec": {
   "display_name": "venv",
   "language": "python",
   "name": "python3"
  },
  "language_info": {
   "codemirror_mode": {
    "name": "ipython",
    "version": 3
   },
   "file_extension": ".py",
   "mimetype": "text/x-python",
   "name": "python",
   "nbconvert_exporter": "python",
   "pygments_lexer": "ipython3",
   "version": "3.11.5"
  }
 },
 "nbformat": 4,
 "nbformat_minor": 5
}
