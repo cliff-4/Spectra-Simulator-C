{
 "cells": [
  {
   "cell_type": "code",
   "execution_count": 2,
   "id": "b1f31e4d",
   "metadata": {},
   "outputs": [],
   "source": [
    "import numpy as np\n",
    "import os"
   ]
  },
  {
   "cell_type": "code",
   "execution_count": 3,
   "id": "c6cedf0d",
   "metadata": {},
   "outputs": [
    {
     "name": "stdout",
     "output_type": "stream",
     "text": [
      "Dummy data saved in ./training_code/.data\n"
     ]
    }
   ],
   "source": [
    "data_dir = './training_code/.data'  # Define the directory to save the data\n",
    "os.makedirs(data_dir, exist_ok=True)  # Create the directory if it doesn't exist\n",
    "\n",
    "for i in range(1):\n",
    "    # Create random data with shape (5120, 35692 + 36)\n",
    "    data = np.random.rand(5120, 35692 + 36).astype(np.float32)\n",
    "    # Ensure the last column meets the condition (>= 45.0)\n",
    "    data[:, -1] = np.random.uniform(45.0, 100.0, size=(5120,))\n",
    "    # Save the data to the specified directory\n",
    "    np.save(os.path.join(data_dir, f'data_{i:03d}.npy'), data)\n",
    "print(f\"Dummy data saved in {data_dir}\")"
   ]
  },
  {
   "cell_type": "code",
   "execution_count": 5,
   "id": "8ee86e5d",
   "metadata": {},
   "outputs": [
    {
     "name": "stdout",
     "output_type": "stream",
     "text": [
      "(5120, 35728)\n",
      "[[0.6147527  0.07011782 0.33597475 ... 0.6622201  0.69836056 0.30045435]\n",
      " [0.27026582 0.20280561 0.15113881 ... 0.11480284 0.1192037  0.4509828 ]\n",
      " [0.92207    0.2989998  0.35532376 ... 0.32094893 0.42794552 0.33053505]\n",
      " [0.8514013  0.4712509  0.55403614 ... 0.9630683  0.66142654 0.6646942 ]\n",
      " [0.04585126 0.662144   0.02068384 ... 0.67172354 0.08949472 0.9831521 ]]\n"
     ]
    }
   ],
   "source": [
    "data = np.load('.checkpoints/.data/data_000.npy')\n",
    "print(data.shape)\n",
    "print(data[:5])"
   ]
  },
  {
   "cell_type": "code",
   "execution_count": 7,
   "id": "3abea6df",
   "metadata": {},
   "outputs": [
    {
     "name": "stdout",
     "output_type": "stream",
     "text": [
      "Min value in last column: 0.00016284863522741944, Max value: 0.9997355937957764\n"
     ]
    }
   ],
   "source": [
    "print(f\"Min value in last column: {data[:, -1].min()}, Max value: {data[:, -1].max()}\")"
   ]
  },
  {
   "cell_type": "code",
   "execution_count": null,
   "id": "e79bad76",
   "metadata": {},
   "outputs": [],
   "source": []
  }
 ],
 "metadata": {
  "kernelspec": {
   "display_name": ".venv",
   "language": "python",
   "name": "python3"
  },
  "language_info": {
   "codemirror_mode": {
    "name": "ipython",
    "version": 3
   },
   "file_extension": ".py",
   "mimetype": "text/x-python",
   "name": "python",
   "nbconvert_exporter": "python",
   "pygments_lexer": "ipython3",
   "version": "3.12.3"
  }
 },
 "nbformat": 4,
 "nbformat_minor": 5
}
